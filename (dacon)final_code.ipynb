{
 "cells": [
  {
   "cell_type": "code",
   "execution_count": 2,
   "metadata": {},
   "outputs": [],
   "source": [
    "import pandas as pd\n",
    "from glob import glob\n",
    "from tqdm import tqdm\n",
    "import warnings\n"
   ]
  },
  {
   "cell_type": "code",
   "execution_count": 2,
   "metadata": {},
   "outputs": [],
   "source": [
    "warnings.filterwarnings(action = 'ignore')"
   ]
  },
  {
   "cell_type": "code",
   "execution_count": 3,
   "metadata": {},
   "outputs": [],
   "source": [
    "know_train = [pd.read_csv(path) for path in sorted(glob('/Volumes/USB/데이콘/know_data/train/*.csv'))]\n",
    "know_test = [pd.read_csv(path) for path in sorted(glob('/Volumes/USB/데이콘/know_data/test/*.csv'))]"
   ]
  },
  {
   "cell_type": "code",
   "execution_count": 5,
   "metadata": {},
   "outputs": [],
   "source": [
    "know_train[0].drop(columns=['Unnamed: 0'],inplace=True)\n",
    "know_test[0].drop(columns=['Unnamed: 0'],inplace=True)\n",
    "\n",
    "know_train[1].drop(columns=['Unnamed: 0'],inplace=True)\n",
    "know_test[1].drop(columns=['Unnamed: 0'],inplace=True)\n",
    "\n",
    "know_train[2].drop(columns=['Unnamed: 0'],inplace=True)\n",
    "know_test[2].drop(columns=['Unnamed: 0'],inplace=True)\n",
    "\n",
    "know_train[3].drop(columns=['Unnamed: 0'],inplace=True)\n",
    "know_test[3].drop(columns=['Unnamed: 0'],inplace=True)"
   ]
  },
  {
   "cell_type": "markdown",
   "metadata": {},
   "source": [
    "### 데이터 라벨 인코딩"
   ]
  },
  {
   "cell_type": "code",
   "execution_count": 7,
   "metadata": {},
   "outputs": [
    {
     "name": "stdout",
     "output_type": "stream",
     "text": [
      "2017\n",
      "2018\n",
      "2019\n",
      "2020\n"
     ]
    }
   ],
   "source": [
    "from sklearn.preprocessing import LabelEncoder\n",
    "years = ['2017', '2018', '2019', '2020']\n",
    "\n",
    "year_encoder = {}\n",
    "\n",
    "for year, df in zip(years, know_train):\n",
    "    print(year)\n",
    "    encoders = {}\n",
    "    \n",
    "    for col in df.columns:\n",
    "        if col == 'ID':\n",
    "            continue\n",
    "        \n",
    "        try:\n",
    "            df[col] = df[col].map(int)\n",
    "        except:\n",
    "            encoder = LabelEncoder()\n",
    "            df[col] = df[col].map(str)\n",
    "            df[col] = encoder.fit_transform(df[col])\n",
    "            encoders[col] = encoder\n",
    "            \n",
    "            \n",
    "    year_encoder[year] = encoders"
   ]
  },
  {
   "cell_type": "code",
   "execution_count": 8,
   "metadata": {},
   "outputs": [],
   "source": [
    "train_data = {}\n",
    "for year, df in zip(years, know_train):\n",
    "    train_data[year] = {'X': df.iloc[:, 1:-1], # ID제외\n",
    "                        'y': df.iloc[:, -1]} "
   ]
  },
  {
   "cell_type": "code",
   "execution_count": 9,
   "metadata": {},
   "outputs": [
    {
     "name": "stdout",
     "output_type": "stream",
     "text": [
      "2017\n",
      "2018\n",
      "2019\n",
      "2020\n"
     ]
    }
   ],
   "source": [
    "years = ['2017', '2018', '2019', '2020']\n",
    "\n",
    "for year, df in zip(years, know_test):\n",
    "    print(year)\n",
    "    encoders = {}\n",
    "    \n",
    "    for col in df.columns:\n",
    "        \n",
    "        try:\n",
    "            df[col] = df[col].map(int)\n",
    "        except:\n",
    "            encoder = year_encoder[year][col]\n",
    "            df[col] = df[col].map(str)\n",
    "            category_map = {category: idx for idx, category in enumerate(encoder.classes_)}\n",
    "            df[col] = df[col].apply(lambda x: category_map[x] if x in category_map else -1) # train set에서 보지못한 카테고리변수 -1(UNK) 처리"
   ]
  },
  {
   "cell_type": "markdown",
   "metadata": {},
   "source": [
    "### RandomForest 진행\n",
    "\n",
    "해당코드에서 메모리 부족 문제 발생으로 for문을 분해해 학습 진행"
   ]
  },
  {
   "cell_type": "code",
   "execution_count": 10,
   "metadata": {},
   "outputs": [],
   "source": [
    "test_data = {}\n",
    "for year, df in zip(years, know_test):\n",
    "    test_data[year] =  {'X': df.iloc[:,1:]}"
   ]
  },
  {
   "cell_type": "code",
   "execution_count": 11,
   "metadata": {},
   "outputs": [
    {
     "name": "stdout",
     "output_type": "stream",
     "text": [
      "1.0\n"
     ]
    }
   ],
   "source": [
    "from sklearn.ensemble import RandomForestClassifier\n",
    "from sklearn.metrics import accuracy_score\n",
    "\n",
    "dt_models = {}\n",
    "model = RandomForestClassifier(n_estimators=900, criterion=\"entropy\", max_depth=16, random_state=123456)\n",
    "model.fit(train_data['2017']['X'].iloc[:, :], train_data['2017']['y'])\n",
    "preds = model.predict(train_data['2017']['X'].iloc[:, :])\n",
    "print(accuracy_score(train_data['2017']['y'],preds))\n",
    "dt_models['2017'] = model\n",
    "    "
   ]
  },
  {
   "cell_type": "code",
   "execution_count": 12,
   "metadata": {},
   "outputs": [],
   "source": [
    "dt_predicts = [] \n",
    "\n",
    "pred = dt_models['2017'].predict(test_data['2017']['X'])\n",
    "dt_predicts.extend(pred)"
   ]
  },
  {
   "cell_type": "code",
   "execution_count": 13,
   "metadata": {},
   "outputs": [
    {
     "name": "stdout",
     "output_type": "stream",
     "text": [
      "1.0\n"
     ]
    }
   ],
   "source": [
    "dt_models = {}\n",
    "model = RandomForestClassifier(n_estimators=700, criterion=\"entropy\", max_depth=16, random_state=123456)\n",
    "model.fit(train_data['2018']['X'].iloc[:, :], train_data['2018']['y'])\n",
    "preds = model.predict(train_data['2018']['X'].iloc[:, :])\n",
    "print(accuracy_score(train_data['2018']['y'],preds))\n",
    "dt_models['2018'] = model"
   ]
  },
  {
   "cell_type": "code",
   "execution_count": 14,
   "metadata": {},
   "outputs": [],
   "source": [
    "pred = dt_models['2018'].predict(test_data['2018']['X'])\n",
    "dt_predicts.extend(pred)"
   ]
  },
  {
   "cell_type": "code",
   "execution_count": 15,
   "metadata": {},
   "outputs": [
    {
     "name": "stdout",
     "output_type": "stream",
     "text": [
      "1.0\n"
     ]
    }
   ],
   "source": [
    "dt_models = {}\n",
    "model = RandomForestClassifier(n_estimators=700, criterion=\"entropy\", max_depth=16, random_state=123456)\n",
    "model.fit(train_data['2019']['X'].iloc[:, :], train_data['2019']['y'])\n",
    "preds = model.predict(train_data['2019']['X'].iloc[:, :])\n",
    "print(accuracy_score(train_data['2019']['y'],preds))\n",
    "dt_models['2019'] = model"
   ]
  },
  {
   "cell_type": "code",
   "execution_count": 16,
   "metadata": {},
   "outputs": [],
   "source": [
    "pred = dt_models['2019'].predict(test_data['2019']['X'])\n",
    "dt_predicts.extend(pred)"
   ]
  },
  {
   "cell_type": "code",
   "execution_count": 17,
   "metadata": {},
   "outputs": [
    {
     "name": "stdout",
     "output_type": "stream",
     "text": [
      "1.0\n"
     ]
    }
   ],
   "source": [
    "dt_models = {}\n",
    "model = RandomForestClassifier(n_estimators=700, criterion=\"entropy\", max_depth=16, random_state=123456)\n",
    "model.fit(train_data['2020']['X'].iloc[:, :], train_data['2020']['y'])\n",
    "preds = model.predict(train_data['2020']['X'].iloc[:, :])\n",
    "print(accuracy_score(train_data['2020']['y'],preds))\n",
    "dt_models['2020'] = model"
   ]
  },
  {
   "cell_type": "code",
   "execution_count": 18,
   "metadata": {},
   "outputs": [],
   "source": [
    "pred = dt_models['2020'].predict(test_data['2020']['X'])\n",
    "dt_predicts.extend(pred)"
   ]
  },
  {
   "cell_type": "markdown",
   "metadata": {},
   "source": [
    "### 결과 도출 단계\n",
    "\n",
    "sample submission 파일을 불러와 진행하였습니다"
   ]
  },
  {
   "cell_type": "code",
   "execution_count": 3,
   "metadata": {},
   "outputs": [],
   "source": [
    "submission = pd.read_csv('/Users/home/Library/Mobile Documents/com~apple~CloudDocs/Downloads/KNOW_data/sample_submission.csv') # sample submission 불러오기"
   ]
  },
  {
   "cell_type": "code",
   "execution_count": 22,
   "metadata": {},
   "outputs": [],
   "source": [
    "submission['knowcode'] = dt_predicts\n",
    "\n",
    "submission.to_csv('submission.csv', index=False)"
   ]
  },
  {
   "cell_type": "code",
   "execution_count": 23,
   "metadata": {},
   "outputs": [
    {
     "data": {
      "text/html": [
       "<div>\n",
       "<style scoped>\n",
       "    .dataframe tbody tr th:only-of-type {\n",
       "        vertical-align: middle;\n",
       "    }\n",
       "\n",
       "    .dataframe tbody tr th {\n",
       "        vertical-align: top;\n",
       "    }\n",
       "\n",
       "    .dataframe thead th {\n",
       "        text-align: right;\n",
       "    }\n",
       "</style>\n",
       "<table border=\"1\" class=\"dataframe\">\n",
       "  <thead>\n",
       "    <tr style=\"text-align: right;\">\n",
       "      <th></th>\n",
       "      <th>idx</th>\n",
       "      <th>knowcode</th>\n",
       "    </tr>\n",
       "  </thead>\n",
       "  <tbody>\n",
       "    <tr>\n",
       "      <th>0</th>\n",
       "      <td>0</td>\n",
       "      <td>29401</td>\n",
       "    </tr>\n",
       "    <tr>\n",
       "      <th>1</th>\n",
       "      <td>1</td>\n",
       "      <td>9999999</td>\n",
       "    </tr>\n",
       "    <tr>\n",
       "      <th>2</th>\n",
       "      <td>2</td>\n",
       "      <td>9999999</td>\n",
       "    </tr>\n",
       "    <tr>\n",
       "      <th>3</th>\n",
       "      <td>3</td>\n",
       "      <td>121102</td>\n",
       "    </tr>\n",
       "    <tr>\n",
       "      <th>4</th>\n",
       "      <td>4</td>\n",
       "      <td>412003</td>\n",
       "    </tr>\n",
       "    <tr>\n",
       "      <th>...</th>\n",
       "      <td>...</td>\n",
       "      <td>...</td>\n",
       "    </tr>\n",
       "    <tr>\n",
       "      <th>35226</th>\n",
       "      <td>35244</td>\n",
       "      <td>851101</td>\n",
       "    </tr>\n",
       "    <tr>\n",
       "      <th>35227</th>\n",
       "      <td>35245</td>\n",
       "      <td>411104</td>\n",
       "    </tr>\n",
       "    <tr>\n",
       "      <th>35228</th>\n",
       "      <td>35246</td>\n",
       "      <td>833001</td>\n",
       "    </tr>\n",
       "    <tr>\n",
       "      <th>35229</th>\n",
       "      <td>35247</td>\n",
       "      <td>140101</td>\n",
       "    </tr>\n",
       "    <tr>\n",
       "      <th>35230</th>\n",
       "      <td>35248</td>\n",
       "      <td>153104</td>\n",
       "    </tr>\n",
       "  </tbody>\n",
       "</table>\n",
       "<p>35231 rows × 2 columns</p>\n",
       "</div>"
      ],
      "text/plain": [
       "         idx  knowcode\n",
       "0          0     29401\n",
       "1          1   9999999\n",
       "2          2   9999999\n",
       "3          3    121102\n",
       "4          4    412003\n",
       "...      ...       ...\n",
       "35226  35244    851101\n",
       "35227  35245    411104\n",
       "35228  35246    833001\n",
       "35229  35247    140101\n",
       "35230  35248    153104\n",
       "\n",
       "[35231 rows x 2 columns]"
      ]
     },
     "execution_count": 23,
     "metadata": {},
     "output_type": "execute_result"
    }
   ],
   "source": [
    "submission"
   ]
  },
  {
   "cell_type": "code",
   "execution_count": 59,
   "metadata": {},
   "outputs": [
    {
     "data": {
      "text/html": [
       "<div>\n",
       "<style scoped>\n",
       "    .dataframe tbody tr th:only-of-type {\n",
       "        vertical-align: middle;\n",
       "    }\n",
       "\n",
       "    .dataframe tbody tr th {\n",
       "        vertical-align: top;\n",
       "    }\n",
       "\n",
       "    .dataframe thead th {\n",
       "        text-align: right;\n",
       "    }\n",
       "</style>\n",
       "<table border=\"1\" class=\"dataframe\">\n",
       "  <thead>\n",
       "    <tr style=\"text-align: right;\">\n",
       "      <th></th>\n",
       "      <th>idx</th>\n",
       "      <th>knowcode</th>\n",
       "    </tr>\n",
       "  </thead>\n",
       "  <tbody>\n",
       "    <tr>\n",
       "      <th>1</th>\n",
       "      <td>1</td>\n",
       "      <td>9999999</td>\n",
       "    </tr>\n",
       "    <tr>\n",
       "      <th>2</th>\n",
       "      <td>2</td>\n",
       "      <td>9999999</td>\n",
       "    </tr>\n",
       "    <tr>\n",
       "      <th>7</th>\n",
       "      <td>7</td>\n",
       "      <td>9999999</td>\n",
       "    </tr>\n",
       "    <tr>\n",
       "      <th>8</th>\n",
       "      <td>8</td>\n",
       "      <td>9999999</td>\n",
       "    </tr>\n",
       "    <tr>\n",
       "      <th>12</th>\n",
       "      <td>12</td>\n",
       "      <td>9999999</td>\n",
       "    </tr>\n",
       "    <tr>\n",
       "      <th>...</th>\n",
       "      <td>...</td>\n",
       "      <td>...</td>\n",
       "    </tr>\n",
       "    <tr>\n",
       "      <th>9463</th>\n",
       "      <td>9463</td>\n",
       "      <td>9999999</td>\n",
       "    </tr>\n",
       "    <tr>\n",
       "      <th>9471</th>\n",
       "      <td>9471</td>\n",
       "      <td>9999999</td>\n",
       "    </tr>\n",
       "    <tr>\n",
       "      <th>9475</th>\n",
       "      <td>9475</td>\n",
       "      <td>9999999</td>\n",
       "    </tr>\n",
       "    <tr>\n",
       "      <th>9476</th>\n",
       "      <td>9476</td>\n",
       "      <td>9999999</td>\n",
       "    </tr>\n",
       "    <tr>\n",
       "      <th>9479</th>\n",
       "      <td>9479</td>\n",
       "      <td>9999999</td>\n",
       "    </tr>\n",
       "  </tbody>\n",
       "</table>\n",
       "<p>2089 rows × 2 columns</p>\n",
       "</div>"
      ],
      "text/plain": [
       "       idx  knowcode\n",
       "1        1   9999999\n",
       "2        2   9999999\n",
       "7        7   9999999\n",
       "8        8   9999999\n",
       "12      12   9999999\n",
       "...    ...       ...\n",
       "9463  9463   9999999\n",
       "9471  9471   9999999\n",
       "9475  9475   9999999\n",
       "9476  9476   9999999\n",
       "9479  9479   9999999\n",
       "\n",
       "[2089 rows x 2 columns]"
      ]
     },
     "execution_count": 59,
     "metadata": {},
     "output_type": "execute_result"
    }
   ],
   "source": [
    "submission[submission['knowcode']==9999999]"
   ]
  }
 ],
 "metadata": {
  "kernelspec": {
   "display_name": "Python 3",
   "language": "python",
   "name": "python3"
  },
  "language_info": {
   "codemirror_mode": {
    "name": "ipython",
    "version": 3
   },
   "file_extension": ".py",
   "mimetype": "text/x-python",
   "name": "python",
   "nbconvert_exporter": "python",
   "pygments_lexer": "ipython3",
   "version": "3.8.3"
  }
 },
 "nbformat": 4,
 "nbformat_minor": 4
}
